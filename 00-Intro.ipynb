{
 "cells": [
  {
   "cell_type": "markdown",
   "metadata": {},
   "source": [
    "# Python-Lectures"
   ]
  },
  {
   "cell_type": "markdown",
   "metadata": {},
   "source": [
    "## Introduction"
   ]
  },
  {
   "cell_type": "markdown",
   "metadata": {},
   "source": [
    "Python is a modern, robust, high level programming language. It is very easy to pick up even if you are completely new to programming."
   ]
  },
  {
   "cell_type": "markdown",
   "metadata": {},
   "source": [
    "## Installing software - JupyterLab, Python, R"
   ]
  },
  {
   "cell_type": "markdown",
   "metadata": {},
   "source": [
    "The lectures will provide possibilities to interactively experiment with some of the code snippets we will use. If you want to actively participate you will need to have Python, R and JupyterLab installed on your system. We will use **miniforge** installer for conda package manager, which allows simple installation of all needed software.\n",
    "\n",
    " 1. Download the latest miniforge installer https://github.com/conda-forge/miniforge\n",
    " 2. Run installer. Please use an installation path that does not contain spaces or non-standard characters\n",
    " 3. From the Start menu select the Miniforge Prompt and use conda command to create the separate *rpython* environment with all needed packages (including both Python and R)\n",
    "\n",
    "```bash\n",
    "conda create -n rpython numpy matplotlib scipy seaborn pandas openpyxl jupyterlab r-essentials r-irkernel\n",
    "```\n"
   ]
  },
  {
   "cell_type": "markdown",
   "metadata": {},
   "source": [
    "## Launching Jupyter Lab"
   ]
  },
  {
   "cell_type": "markdown",
   "metadata": {},
   "source": [
    "From the Start menu select the Miniforge Prompt, activate *rpython* environment and launch jupyterlab\n",
    "\n",
    "```bash\n",
    "conda activate rpython\n",
    "jupyter lab\n",
    "```\n"
   ]
  },
  {
   "cell_type": "markdown",
   "metadata": {},
   "source": [
    "## How to learn from this resource?"
   ]
  },
  {
   "cell_type": "markdown",
   "metadata": {},
   "source": [
    "Download all the ipython notebooks from this repository https://github.com/ondrolexa/r-python\n",
    "\n",
    "Launch jupyter notebook from the folder which contains the notebooks. Open each one of them\n",
    "\n",
    "    Cell > All Output > Clear\n",
    "    \n",
    "This will clear all the outputs and now you can understand each statement and learn interactively."
   ]
  },
  {
   "cell_type": "markdown",
   "metadata": {},
   "source": [
    "## Other resources"
   ]
  },
  {
   "cell_type": "markdown",
   "metadata": {},
   "source": [
    "There is a lot of online material you can use to lear Python. My favorites are:\n",
    "  * [Python Notes](http://www.thomas-cokelaer.info/tutorials/python/index.html)\n",
    "  * [Dive Into Python 3](https://diveintopython3.problemsolving.io/)\n",
    "  * [The Python Tutorial](https://docs.python.org/3/tutorial/index.html)"
   ]
  },
  {
   "cell_type": "code",
   "execution_count": null,
   "metadata": {},
   "outputs": [],
   "source": []
  }
 ],
 "metadata": {
  "kernelspec": {
   "display_name": "Python 3 (ipykernel)",
   "language": "python",
   "name": "python3"
  },
  "language_info": {
   "codemirror_mode": {
    "name": "ipython",
    "version": 3
   },
   "file_extension": ".py",
   "mimetype": "text/x-python",
   "name": "python",
   "nbconvert_exporter": "python",
   "pygments_lexer": "ipython3",
   "version": "3.10.6"
  }
 },
 "nbformat": 4,
 "nbformat_minor": 4
}
